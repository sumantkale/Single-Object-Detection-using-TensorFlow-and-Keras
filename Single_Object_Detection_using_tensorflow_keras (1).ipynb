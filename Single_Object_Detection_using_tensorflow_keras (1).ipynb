{
  "cells": [
    {
      "cell_type": "markdown",
      "metadata": {
        "id": "1df8bc04"
      },
      "source": [
        "This notebook covers the following topics for single object detection problem. we have used lite weight datasets to analyze this problem with minimal setup.\n",
        "\n",
        "1. Data Analysis\n",
        "2. Data Loading\n",
        "3. Model Setup\n",
        "4. Training\n",
        "5. Visulisation"
      ],
      "id": "1df8bc04"
    },
    {
      "cell_type": "code",
      "execution_count": null,
      "metadata": {
        "id": "be3c7871"
      },
      "outputs": [],
      "source": [
        "import os\n",
        "import pandas as pd\n",
        "import numpy as np\n",
        "import seaborn as sns\n",
        "from bs4 import BeautifulSoup\n",
        "import matplotlib.pyplot as plt\n",
        "import tensorflow as tf\n",
        "import matplotlib.patches as mpatches"
      ],
      "id": "be3c7871"
    },
    {
      "cell_type": "code",
      "execution_count": null,
      "metadata": {
        "id": "vyMAcim4J2p_"
      },
      "outputs": [],
      "source": [
        "\n",
        "import zipfile\n",
        "\n",
        "local_zip = 'datasets.zip'\n",
        "zip_ref = zipfile.ZipFile(local_zip, 'r')\n",
        "zip_ref.extractall('datasets')\n",
        "zip_ref.close()\n",
        "\n",
        "base_dir = 'datasets/'\n",
        "flowers_dir = os.path.join(base_dir, '')"
      ],
      "id": "vyMAcim4J2p_"
    },
    {
      "cell_type": "markdown",
      "metadata": {
        "id": "85355ae3"
      },
      "source": [
        "**Transforming row data to dataframe**\n",
        "\n",
        "here the data format for annotations are quit unsual than people used to so better to first convert this in suitable format for smoother operations in training."
      ],
      "id": "85355ae3"
    },
    {
      "cell_type": "code",
      "execution_count": null,
      "metadata": {
        "id": "83f3f82a"
      },
      "outputs": [],
      "source": [
        "# Define Directory\n",
        "images_directory = \"/content/datasets/datasets/images\"\n",
        "annotations_directory=\"/content/datasets/datasets/annotations\"\n",
        "\n",
        "img_paths = sorted([os.path.join(images_directory, fname) for fname in os.listdir(images_directory) if fname.endswith(\".jpg\")])\n",
        "label_paths = sorted([os.path.join(annotations_directory, fname) for fname in os.listdir(annotations_directory) if fname.endswith(\".xml\")])\n",
        "\n",
        "k = len(img_paths)\n",
        "\n",
        "data_list = []\n",
        "\n",
        "for i in range(k):\n",
        "    annotation_file=label_paths[i]\n",
        "    ds = BeautifulSoup(open(annotation_file).read(), \"html.parser\")\n",
        "\n",
        "    # Iterating over each object elements\n",
        "    for o in ds.find_all(\"object\"):\n",
        "\n",
        "        x_min = max(0, int(float(o.find(\"xmin\").string)))\n",
        "        y_min = max(0, int(float(o.find(\"ymin\").string)))\n",
        "        x_max = min(int(ds.find(\"width\").string), int(float(o.find(\"xmax\").string)))\n",
        "        y_max = min(int(ds.find(\"height\").string), int(float(o.find(\"ymax\").string)))\n",
        "\n",
        "        # in case the boundary goes above its limis, providing some restrictions.\n",
        "        if x_min >= x_max or y_min >= y_max:\n",
        "            continue\n",
        "        elif x_max <= x_min or y_max <= y_min:\n",
        "            continue\n",
        "\n",
        "        sample = [str(img_paths[i]), x_min, y_min, x_max, y_max]\n",
        "\n",
        "        data_list.append(sample)\n",
        "\n",
        "data = pd.DataFrame(data_list)"
      ],
      "id": "83f3f82a"
    },
    {
      "cell_type": "markdown",
      "metadata": {
        "id": "1dea9d77"
      },
      "source": [
        "**Visulisation**\n",
        "\n",
        "let's visulise the data to see how it has been disctributed or balanced."
      ],
      "id": "1dea9d77"
    },
    {
      "cell_type": "code",
      "execution_count": null,
      "metadata": {
        "colab": {
          "base_uri": "https://localhost:8080/",
          "height": 206
        },
        "id": "e247c1d4",
        "outputId": "c34fce9d-e182-41d9-c0bf-da24d2fec00e"
      },
      "outputs": [
        {
          "data": {
            "text/html": [
              "\n",
              "  <div id=\"df-d32628c0-744e-4ca4-bede-0b0bafbf4abc\" class=\"colab-df-container\">\n",
              "    <div>\n",
              "<style scoped>\n",
              "    .dataframe tbody tr th:only-of-type {\n",
              "        vertical-align: middle;\n",
              "    }\n",
              "\n",
              "    .dataframe tbody tr th {\n",
              "        vertical-align: top;\n",
              "    }\n",
              "\n",
              "    .dataframe thead th {\n",
              "        text-align: right;\n",
              "    }\n",
              "</style>\n",
              "<table border=\"1\" class=\"dataframe\">\n",
              "  <thead>\n",
              "    <tr style=\"text-align: right;\">\n",
              "      <th></th>\n",
              "      <th>0</th>\n",
              "      <th>1</th>\n",
              "      <th>2</th>\n",
              "      <th>3</th>\n",
              "      <th>4</th>\n",
              "    </tr>\n",
              "  </thead>\n",
              "  <tbody>\n",
              "    <tr>\n",
              "      <th>0</th>\n",
              "      <td>/content/datasets/datasets/images/a (1).jpg</td>\n",
              "      <td>38</td>\n",
              "      <td>54</td>\n",
              "      <td>179</td>\n",
              "      <td>173</td>\n",
              "    </tr>\n",
              "    <tr>\n",
              "      <th>1</th>\n",
              "      <td>/content/datasets/datasets/images/a (10).jpg</td>\n",
              "      <td>58</td>\n",
              "      <td>14</td>\n",
              "      <td>155</td>\n",
              "      <td>117</td>\n",
              "    </tr>\n",
              "    <tr>\n",
              "      <th>2</th>\n",
              "      <td>/content/datasets/datasets/images/a (100).jpg</td>\n",
              "      <td>86</td>\n",
              "      <td>18</td>\n",
              "      <td>182</td>\n",
              "      <td>125</td>\n",
              "    </tr>\n",
              "    <tr>\n",
              "      <th>3</th>\n",
              "      <td>/content/datasets/datasets/images/a (101).jpg</td>\n",
              "      <td>23</td>\n",
              "      <td>16</td>\n",
              "      <td>120</td>\n",
              "      <td>115</td>\n",
              "    </tr>\n",
              "    <tr>\n",
              "      <th>4</th>\n",
              "      <td>/content/datasets/datasets/images/a (102).jpg</td>\n",
              "      <td>33</td>\n",
              "      <td>30</td>\n",
              "      <td>166</td>\n",
              "      <td>173</td>\n",
              "    </tr>\n",
              "  </tbody>\n",
              "</table>\n",
              "</div>\n",
              "    <div class=\"colab-df-buttons\">\n",
              "\n",
              "  <div class=\"colab-df-container\">\n",
              "    <button class=\"colab-df-convert\" onclick=\"convertToInteractive('df-d32628c0-744e-4ca4-bede-0b0bafbf4abc')\"\n",
              "            title=\"Convert this dataframe to an interactive table.\"\n",
              "            style=\"display:none;\">\n",
              "\n",
              "  <svg xmlns=\"http://www.w3.org/2000/svg\" height=\"24px\" viewBox=\"0 -960 960 960\">\n",
              "    <path d=\"M120-120v-720h720v720H120Zm60-500h600v-160H180v160Zm220 220h160v-160H400v160Zm0 220h160v-160H400v160ZM180-400h160v-160H180v160Zm440 0h160v-160H620v160ZM180-180h160v-160H180v160Zm440 0h160v-160H620v160Z\"/>\n",
              "  </svg>\n",
              "    </button>\n",
              "\n",
              "  <style>\n",
              "    .colab-df-container {\n",
              "      display:flex;\n",
              "      gap: 12px;\n",
              "    }\n",
              "\n",
              "    .colab-df-convert {\n",
              "      background-color: #E8F0FE;\n",
              "      border: none;\n",
              "      border-radius: 50%;\n",
              "      cursor: pointer;\n",
              "      display: none;\n",
              "      fill: #1967D2;\n",
              "      height: 32px;\n",
              "      padding: 0 0 0 0;\n",
              "      width: 32px;\n",
              "    }\n",
              "\n",
              "    .colab-df-convert:hover {\n",
              "      background-color: #E2EBFA;\n",
              "      box-shadow: 0px 1px 2px rgba(60, 64, 67, 0.3), 0px 1px 3px 1px rgba(60, 64, 67, 0.15);\n",
              "      fill: #174EA6;\n",
              "    }\n",
              "\n",
              "    .colab-df-buttons div {\n",
              "      margin-bottom: 4px;\n",
              "    }\n",
              "\n",
              "    [theme=dark] .colab-df-convert {\n",
              "      background-color: #3B4455;\n",
              "      fill: #D2E3FC;\n",
              "    }\n",
              "\n",
              "    [theme=dark] .colab-df-convert:hover {\n",
              "      background-color: #434B5C;\n",
              "      box-shadow: 0px 1px 3px 1px rgba(0, 0, 0, 0.15);\n",
              "      filter: drop-shadow(0px 1px 2px rgba(0, 0, 0, 0.3));\n",
              "      fill: #FFFFFF;\n",
              "    }\n",
              "  </style>\n",
              "\n",
              "    <script>\n",
              "      const buttonEl =\n",
              "        document.querySelector('#df-d32628c0-744e-4ca4-bede-0b0bafbf4abc button.colab-df-convert');\n",
              "      buttonEl.style.display =\n",
              "        google.colab.kernel.accessAllowed ? 'block' : 'none';\n",
              "\n",
              "      async function convertToInteractive(key) {\n",
              "        const element = document.querySelector('#df-d32628c0-744e-4ca4-bede-0b0bafbf4abc');\n",
              "        const dataTable =\n",
              "          await google.colab.kernel.invokeFunction('convertToInteractive',\n",
              "                                                    [key], {});\n",
              "        if (!dataTable) return;\n",
              "\n",
              "        const docLinkHtml = 'Like what you see? Visit the ' +\n",
              "          '<a target=\"_blank\" href=https://colab.research.google.com/notebooks/data_table.ipynb>data table notebook</a>'\n",
              "          + ' to learn more about interactive tables.';\n",
              "        element.innerHTML = '';\n",
              "        dataTable['output_type'] = 'display_data';\n",
              "        await google.colab.output.renderOutput(dataTable, element);\n",
              "        const docLink = document.createElement('div');\n",
              "        docLink.innerHTML = docLinkHtml;\n",
              "        element.appendChild(docLink);\n",
              "      }\n",
              "    </script>\n",
              "  </div>\n",
              "\n",
              "\n",
              "<div id=\"df-49a9b649-4876-490a-b74e-8f1b6488b738\">\n",
              "  <button class=\"colab-df-quickchart\" onclick=\"quickchart('df-49a9b649-4876-490a-b74e-8f1b6488b738')\"\n",
              "            title=\"Suggest charts.\"\n",
              "            style=\"display:none;\">\n",
              "\n",
              "<svg xmlns=\"http://www.w3.org/2000/svg\" height=\"24px\"viewBox=\"0 0 24 24\"\n",
              "     width=\"24px\">\n",
              "    <g>\n",
              "        <path d=\"M19 3H5c-1.1 0-2 .9-2 2v14c0 1.1.9 2 2 2h14c1.1 0 2-.9 2-2V5c0-1.1-.9-2-2-2zM9 17H7v-7h2v7zm4 0h-2V7h2v10zm4 0h-2v-4h2v4z\"/>\n",
              "    </g>\n",
              "</svg>\n",
              "  </button>\n",
              "\n",
              "<style>\n",
              "  .colab-df-quickchart {\n",
              "      --bg-color: #E8F0FE;\n",
              "      --fill-color: #1967D2;\n",
              "      --hover-bg-color: #E2EBFA;\n",
              "      --hover-fill-color: #174EA6;\n",
              "      --disabled-fill-color: #AAA;\n",
              "      --disabled-bg-color: #DDD;\n",
              "  }\n",
              "\n",
              "  [theme=dark] .colab-df-quickchart {\n",
              "      --bg-color: #3B4455;\n",
              "      --fill-color: #D2E3FC;\n",
              "      --hover-bg-color: #434B5C;\n",
              "      --hover-fill-color: #FFFFFF;\n",
              "      --disabled-bg-color: #3B4455;\n",
              "      --disabled-fill-color: #666;\n",
              "  }\n",
              "\n",
              "  .colab-df-quickchart {\n",
              "    background-color: var(--bg-color);\n",
              "    border: none;\n",
              "    border-radius: 50%;\n",
              "    cursor: pointer;\n",
              "    display: none;\n",
              "    fill: var(--fill-color);\n",
              "    height: 32px;\n",
              "    padding: 0;\n",
              "    width: 32px;\n",
              "  }\n",
              "\n",
              "  .colab-df-quickchart:hover {\n",
              "    background-color: var(--hover-bg-color);\n",
              "    box-shadow: 0 1px 2px rgba(60, 64, 67, 0.3), 0 1px 3px 1px rgba(60, 64, 67, 0.15);\n",
              "    fill: var(--button-hover-fill-color);\n",
              "  }\n",
              "\n",
              "  .colab-df-quickchart-complete:disabled,\n",
              "  .colab-df-quickchart-complete:disabled:hover {\n",
              "    background-color: var(--disabled-bg-color);\n",
              "    fill: var(--disabled-fill-color);\n",
              "    box-shadow: none;\n",
              "  }\n",
              "\n",
              "  .colab-df-spinner {\n",
              "    border: 2px solid var(--fill-color);\n",
              "    border-color: transparent;\n",
              "    border-bottom-color: var(--fill-color);\n",
              "    animation:\n",
              "      spin 1s steps(1) infinite;\n",
              "  }\n",
              "\n",
              "  @keyframes spin {\n",
              "    0% {\n",
              "      border-color: transparent;\n",
              "      border-bottom-color: var(--fill-color);\n",
              "      border-left-color: var(--fill-color);\n",
              "    }\n",
              "    20% {\n",
              "      border-color: transparent;\n",
              "      border-left-color: var(--fill-color);\n",
              "      border-top-color: var(--fill-color);\n",
              "    }\n",
              "    30% {\n",
              "      border-color: transparent;\n",
              "      border-left-color: var(--fill-color);\n",
              "      border-top-color: var(--fill-color);\n",
              "      border-right-color: var(--fill-color);\n",
              "    }\n",
              "    40% {\n",
              "      border-color: transparent;\n",
              "      border-right-color: var(--fill-color);\n",
              "      border-top-color: var(--fill-color);\n",
              "    }\n",
              "    60% {\n",
              "      border-color: transparent;\n",
              "      border-right-color: var(--fill-color);\n",
              "    }\n",
              "    80% {\n",
              "      border-color: transparent;\n",
              "      border-right-color: var(--fill-color);\n",
              "      border-bottom-color: var(--fill-color);\n",
              "    }\n",
              "    90% {\n",
              "      border-color: transparent;\n",
              "      border-bottom-color: var(--fill-color);\n",
              "    }\n",
              "  }\n",
              "</style>\n",
              "\n",
              "  <script>\n",
              "    async function quickchart(key) {\n",
              "      const quickchartButtonEl =\n",
              "        document.querySelector('#' + key + ' button');\n",
              "      quickchartButtonEl.disabled = true;  // To prevent multiple clicks.\n",
              "      quickchartButtonEl.classList.add('colab-df-spinner');\n",
              "      try {\n",
              "        const charts = await google.colab.kernel.invokeFunction(\n",
              "            'suggestCharts', [key], {});\n",
              "      } catch (error) {\n",
              "        console.error('Error during call to suggestCharts:', error);\n",
              "      }\n",
              "      quickchartButtonEl.classList.remove('colab-df-spinner');\n",
              "      quickchartButtonEl.classList.add('colab-df-quickchart-complete');\n",
              "    }\n",
              "    (() => {\n",
              "      let quickchartButtonEl =\n",
              "        document.querySelector('#df-49a9b649-4876-490a-b74e-8f1b6488b738 button');\n",
              "      quickchartButtonEl.style.display =\n",
              "        google.colab.kernel.accessAllowed ? 'block' : 'none';\n",
              "    })();\n",
              "  </script>\n",
              "</div>\n",
              "    </div>\n",
              "  </div>\n"
            ],
            "text/plain": [
              "                                               0   1   2    3    4\n",
              "0    /content/datasets/datasets/images/a (1).jpg  38  54  179  173\n",
              "1   /content/datasets/datasets/images/a (10).jpg  58  14  155  117\n",
              "2  /content/datasets/datasets/images/a (100).jpg  86  18  182  125\n",
              "3  /content/datasets/datasets/images/a (101).jpg  23  16  120  115\n",
              "4  /content/datasets/datasets/images/a (102).jpg  33  30  166  173"
            ]
          },
          "execution_count": 4,
          "metadata": {},
          "output_type": "execute_result"
        }
      ],
      "source": [
        "data.head()"
      ],
      "id": "e247c1d4"
    },
    {
      "cell_type": "code",
      "execution_count": null,
      "metadata": {
        "colab": {
          "base_uri": "https://localhost:8080/",
          "height": 452
        },
        "id": "4b2133bc",
        "outputId": "7b00a908-3e3c-4e71-cb70-b9919ef0050a"
      },
      "outputs": [
        {
          "name": "stdout",
          "output_type": "stream",
          "text": [
            "xmin 38 ymin 54 xmax 179 ymax 173\n"
          ]
        },
        {
          "data": {
            "image/png": "[encoded data removed]",
            "text/plain": [
              "<Figure size 640x480 with 1 Axes>"
            ]
          },
          "metadata": {},
          "output_type": "display_data"
        }
      ],
      "source": [
        "img = plt.imread(data[0][0])\n",
        "plt.imshow(img)\n",
        "print('xmin', data[1][0], 'ymin',data[2][0],'xmax',data[3][0],'ymax',data[4][0])"
      ],
      "id": "4b2133bc"
    },
    {
      "cell_type": "code",
      "execution_count": null,
      "metadata": {
        "colab": {
          "base_uri": "https://localhost:8080/"
        },
        "id": "6e9126fb",
        "outputId": "b9a082b6-3f0c-4c48-9cfb-de9fc7654b44"
      },
      "outputs": [
        {
          "name": "stdout",
          "output_type": "stream",
          "text": [
            "(224, 224, 3)\n"
          ]
        }
      ],
      "source": [
        "print(img.shape)"
      ],
      "id": "6e9126fb"
    },
    {
      "cell_type": "code",
      "execution_count": null,
      "metadata": {
        "colab": {
          "base_uri": "https://localhost:8080/",
          "height": 487
        },
        "id": "7a01e182",
        "outputId": "1636bc8d-0655-48cd-909e-f05dee884ea4"
      },
      "outputs": [
        {
          "data": {
            "image/png": "[encoded data removed]",
            "text/plain": [
              "<Figure size 640x480 with 9 Axes>"
            ]
          },
          "metadata": {},
          "output_type": "display_data"
        }
      ],
      "source": [
        "width=5\n",
        "height=5\n",
        "rows = 3\n",
        "cols = 3\n",
        "axes=[]\n",
        "fig=plt.figure()\n",
        "for a in range(rows*cols):\n",
        "    c = np.random.randint(100)\n",
        "    img = plt.imread(data[0][c])\n",
        "    axes.append( fig.add_subplot(rows, cols, a+1) )\n",
        "    subplot_title=(\"Subplot\"+str(a))\n",
        "    axes[-1].set_title(subplot_title)\n",
        "    plt.imshow(img)\n",
        "fig.tight_layout()\n",
        "plt.show()"
      ],
      "id": "7a01e182"
    },
    {
      "cell_type": "markdown",
      "metadata": {
        "id": "8b4b40a2"
      },
      "source": [
        "x_min samples"
      ],
      "id": "8b4b40a2"
    },
    {
      "cell_type": "markdown",
      "metadata": {
        "id": "ef210acc"
      },
      "source": [
        "**2. Data Loading**\n",
        "\n",
        "now its time to implemet efficeint data loading technic to boost the training time. tf.data seems the popular efficient approach for such task. applying it to our selected data."
      ],
      "id": "ef210acc"
    },
    {
      "cell_type": "code",
      "execution_count": null,
      "metadata": {
        "id": "0b1ee62c"
      },
      "outputs": [],
      "source": [
        "def proc_image(path, xmin, ymin, xmax, ymax):\n",
        "    image = tf.io.read_file(path)\n",
        "    image = tf.image.decode_jpeg(image, channels=3)\n",
        "    image = tf.cast(image, tf.float64)\n",
        "    return image/255.0, (xmin, ymin, xmax, ymax)"
      ],
      "id": "0b1ee62c"
    },
    {
      "cell_type": "markdown",
      "metadata": {
        "id": "d0737543"
      },
      "source": [
        "**Training and Validation Split**\n",
        "\n",
        "it is required to split data between training and validation to avoid overfitting in model training. for the case we have split data between 80-20 where 80 percentage data is used for training and remaining 20 percentage is used for the validation."
      ],
      "id": "d0737543"
    },
    {
      "cell_type": "code",
      "execution_count": null,
      "metadata": {
        "id": "a5a97ead"
      },
      "outputs": [],
      "source": [
        "np.random.seed(127)\n",
        "bs = 16 #batch size\n",
        "valid_mask = np.random.rand(len(data)) < 0.2\n",
        "val = data[valid_mask]\n",
        "train = data[~valid_mask]"
      ],
      "id": "a5a97ead"
    },
    {
      "cell_type": "code",
      "execution_count": null,
      "metadata": {
        "id": "d5919347"
      },
      "outputs": [],
      "source": [
        "dataset = tf.data.Dataset.from_tensor_slices((train[0].values, train[1].values, train[2].values ,train[3].values, train[4].values))\n",
        "dataset = dataset.map(proc_image, num_parallel_calls=tf.data.experimental.AUTOTUNE)\n",
        "dataset = dataset.shuffle(241).cache().repeat().batch(bs).prefetch(buffer_size=tf.data.experimental.AUTOTUNE)\n",
        "\n",
        "dataset_valid = tf.data.Dataset.from_tensor_slices((val[0].values, val[1].values, val[2].values, val[3].values, val[4].values))\n",
        "dataset_valid = dataset_valid.map(proc_image, num_parallel_calls=tf.data.experimental.AUTOTUNE)\n",
        "dataset_valid = dataset_valid.shuffle(241).cache().batch(bs).repeat().prefetch(buffer_size=tf.data.experimental.AUTOTUNE)\n",
        "\n",
        "steps_per_epoch_train = len(train) // bs\n",
        "validation_steps = len(val) // bs"
      ],
      "id": "d5919347"
    },
    {
      "cell_type": "markdown",
      "metadata": {
        "id": "69088dc7"
      },
      "source": [
        "visulise data loader"
      ],
      "id": "69088dc7"
    },
    {
      "cell_type": "markdown",
      "metadata": {
        "id": "6fffea1a"
      },
      "source": [
        "**Model Setup**\n",
        "\n",
        "lets create basic model for bounding box regression like problem with input size of 224x224 and output of 4 channel. the model is deigned with inceasing feature map size over each layer to improve the scope of detection. linear layer at end for fitting with bounding box number is producing quite amazing results for the regression case."
      ],
      "id": "6fffea1a"
    },
    {
      "cell_type": "code",
      "execution_count": null,
      "metadata": {
        "colab": {
          "base_uri": "https://localhost:8080/"
        },
        "id": "1421b707",
        "outputId": "64c8804b-0378-4a20-ac85-c7e5e1204c21"
      },
      "outputs": [
        {
          "name": "stderr",
          "output_type": "stream",
          "text": [
            "WARNING:absl:`lr` is deprecated in Keras optimizer, please use `learning_rate` or use the legacy optimizer, e.g.,tf.keras.optimizers.legacy.Adam.\n"
          ]
        },
        {
          "name": "stdout",
          "output_type": "stream",
          "text": [
            "Model: \"model\"\n",
            "__________________________________________________________________________________________________\n",
            " Layer (type)                Output Shape                 Param #   Connected to                  \n",
            "==================================================================================================\n",
            " input_1 (InputLayer)        [(None, 224, 224, 3)]        0         []                            \n",
            "                                                                                                  \n",
            " conv2d (Conv2D)             (None, 223, 223, 64)         832       ['input_1[0][0]']             \n",
            "                                                                                                  \n",
            " conv2d_1 (Conv2D)           (None, 221, 221, 32)         18464     ['conv2d[0][0]']              \n",
            "                                                                                                  \n",
            " conv2d_2 (Conv2D)           (None, 218, 218, 32)         16416     ['conv2d_1[0][0]']            \n",
            "                                                                                                  \n",
            " conv2d_3 (Conv2D)           (None, 214, 214, 32)         25632     ['conv2d_2[0][0]']            \n",
            "                                                                                                  \n",
            " conv2d_4 (Conv2D)           (None, 209, 209, 16)         18448     ['conv2d_3[0][0]']            \n",
            "                                                                                                  \n",
            " conv2d_5 (Conv2D)           (None, 203, 203, 16)         12560     ['conv2d_4[0][0]']            \n",
            "                                                                                                  \n",
            " conv2d_6 (Conv2D)           (None, 196, 196, 64)         65600     ['conv2d_5[0][0]']            \n",
            "                                                                                                  \n",
            " conv2d_7 (Conv2D)           (None, 188, 188, 64)         331840    ['conv2d_6[0][0]']            \n",
            "                                                                                                  \n",
            " conv2d_8 (Conv2D)           (None, 179, 179, 32)         204832    ['conv2d_7[0][0]']            \n",
            "                                                                                                  \n",
            " conv2d_9 (Conv2D)           (None, 165, 165, 32)         230432    ['conv2d_8[0][0]']            \n",
            "                                                                                                  \n",
            " conv2d_10 (Conv2D)          (None, 146, 146, 32)         409632    ['conv2d_9[0][0]']            \n",
            "                                                                                                  \n",
            " conv2d_11 (Conv2D)          (None, 122, 122, 32)         640032    ['conv2d_10[0][0]']           \n",
            "                                                                                                  \n",
            " conv2d_12 (Conv2D)          (None, 93, 93, 16)           460816    ['conv2d_11[0][0]']           \n",
            "                                                                                                  \n",
            " conv2d_13 (Conv2D)          (None, 54, 54, 16)           409616    ['conv2d_12[0][0]']           \n",
            "                                                                                                  \n",
            " conv2d_14 (Conv2D)          (None, 10, 10, 16)           518416    ['conv2d_13[0][0]']           \n",
            "                                                                                                  \n",
            " conv2d_15 (Conv2D)          (None, 6, 6, 16)             6416      ['conv2d_14[0][0]']           \n",
            "                                                                                                  \n",
            " global_max_pooling2d (Glob  (None, 16)                   0         ['conv2d_15[0][0]']           \n",
            " alMaxPooling2D)                                                                                  \n",
            "                                                                                                  \n",
            " dense (Dense)               (None, 256)                  4352      ['global_max_pooling2d[0][0]']\n",
            "                                                                                                  \n",
            " dropout (Dropout)           (None, 256)                  0         ['dense[0][0]']               \n",
            "                                                                                                  \n",
            " dense_1 (Dense)             (None, 64)                   16448     ['dropout[0][0]']             \n",
            "                                                                                                  \n",
            " dense_3 (Dense)             (None, 64)                   16448     ['dropout[0][0]']             \n",
            "                                                                                                  \n",
            " dense_5 (Dense)             (None, 64)                   16448     ['dropout[0][0]']             \n",
            "                                                                                                  \n",
            " dense_7 (Dense)             (None, 64)                   16448     ['dropout[0][0]']             \n",
            "                                                                                                  \n",
            " dropout_1 (Dropout)         (None, 64)                   0         ['dense_1[0][0]']             \n",
            "                                                                                                  \n",
            " dropout_2 (Dropout)         (None, 64)                   0         ['dense_3[0][0]']             \n",
            "                                                                                                  \n",
            " dropout_3 (Dropout)         (None, 64)                   0         ['dense_5[0][0]']             \n",
            "                                                                                                  \n",
            " dropout_4 (Dropout)         (None, 64)                   0         ['dense_7[0][0]']             \n",
            "                                                                                                  \n",
            " dense_2 (Dense)             (None, 1)                    65        ['dropout_1[0][0]']           \n",
            "                                                                                                  \n",
            " dense_4 (Dense)             (None, 1)                    65        ['dropout_2[0][0]']           \n",
            "                                                                                                  \n",
            " dense_6 (Dense)             (None, 1)                    65        ['dropout_3[0][0]']           \n",
            "                                                                                                  \n",
            " dense_8 (Dense)             (None, 1)                    65        ['dropout_4[0][0]']           \n",
            "                                                                                                  \n",
            "==================================================================================================\n",
            "Total params: 3440388 (13.12 MB)\n",
            "Trainable params: 3440388 (13.12 MB)\n",
            "Non-trainable params: 0 (0.00 Byte)\n",
            "__________________________________________________________________________________________________\n"
          ]
        }
      ],
      "source": [
        "# Model Setup\n",
        "x0 = tf.keras.Input(shape=(224,224,3))\n",
        "x = tf.keras.layers.Conv2D(filters=64,kernel_size=(2,2), activation=tf.nn.relu)(x0)\n",
        "x = tf.keras.layers.Conv2D(filters=32,kernel_size=(3,3), activation=tf.nn.relu)(x)\n",
        "x = tf.keras.layers.Conv2D(filters=32,kernel_size=(4,4), activation=tf.nn.relu)(x)\n",
        "x = tf.keras.layers.Conv2D(filters=32,kernel_size=(5,5), activation=tf.nn.relu)(x)\n",
        "x = tf.keras.layers.Conv2D(filters=16,kernel_size=(6,6), activation=tf.nn.relu)(x)\n",
        "x = tf.keras.layers.Conv2D(filters=16,kernel_size=(7,7), activation=tf.nn.relu)(x)\n",
        "x = tf.keras.layers.Conv2D(filters=64,kernel_size=(8,8), activation=tf.nn.relu)(x)\n",
        "x = tf.keras.layers.Conv2D(filters=64,kernel_size=(9,9), activation=tf.nn.relu)(x)\n",
        "x = tf.keras.layers.Conv2D(filters=32,kernel_size=(10,10), activation=tf.nn.relu)(x)\n",
        "x = tf.keras.layers.Conv2D(filters=32,kernel_size=(15,15), activation=tf.nn.relu)(x)\n",
        "x = tf.keras.layers.Conv2D(filters=32,kernel_size=(20,20), activation=tf.nn.relu)(x)\n",
        "x = tf.keras.layers.Conv2D(filters=32,kernel_size=(25,25), activation=tf.nn.relu)(x)\n",
        "x = tf.keras.layers.Conv2D(filters=16,kernel_size=(30,30), activation=tf.nn.relu)(x)\n",
        "x = tf.keras.layers.Conv2D(filters=16,kernel_size=(40,40), activation=tf.nn.relu)(x)\n",
        "x = tf.keras.layers.Conv2D(filters=16,kernel_size=(45,45), activation=tf.nn.relu)(x)\n",
        "x = tf.keras.layers.Conv2D(filters=16,kernel_size=(5,5), activation=tf.nn.relu)(x)\n",
        "x = tf.keras.layers.GlobalMaxPooling2D()(x)\n",
        "\n",
        "x = tf.keras.layers.Dense(256, activation=tf.nn.relu)(x)\n",
        "x =tf.keras.layers.Dropout(0.2)(x)\n",
        "\n",
        "x1 = tf.keras.layers.Dense(64, activation=tf.nn.relu)(x)\n",
        "x1 =tf.keras.layers.Dropout(0.2)(x1)\n",
        "y1 = tf.keras.layers.Dense(1, activation=\"linear\")(x1)\n",
        "\n",
        "x2 = tf.keras.layers.Dense(64, activation=tf.nn.relu)(x)\n",
        "x2 =tf.keras.layers.Dropout(0.2)(x2)\n",
        "y2 = tf.keras.layers.Dense(1, activation=\"linear\")(x2)\n",
        "\n",
        "x3 = tf.keras.layers.Dense(64, activation=tf.nn.relu)(x)\n",
        "x3 =tf.keras.layers.Dropout(0.2)(x3)\n",
        "y3 = tf.keras.layers.Dense(1, activation=\"linear\")(x3)\n",
        "\n",
        "x4 = tf.keras.layers.Dense(64, activation=tf.nn.relu)(x)\n",
        "x4 =tf.keras.layers.Dropout(0.2)(x4)\n",
        "y4 = tf.keras.layers.Dense(1, activation=\"linear\")(x4)\n",
        "\n",
        "model = tf.keras.Model(inputs=x0, outputs=[y1, y2, y3, y4])\n",
        "model.compile(tf.keras.optimizers.Adam(lr=0.0001),loss=['mse','mse','mse','mse'])\n",
        "model.summary()"
      ],
      "id": "1421b707"
    },
    {
      "cell_type": "markdown",
      "metadata": {
        "id": "ea4ff8c4"
      },
      "source": [
        "**4. Training**\n",
        "\n",
        "we have trained this model upto 100 epoch but it could be trainned further to improve the accuracy bit more. here we have used mean squre error criteria for evaluation and tarining as problem seems bit of regression."
      ],
      "id": "ea4ff8c4"
    },
    {
      "cell_type": "code",
      "execution_count": null,
      "metadata": {
        "colab": {
          "background_save": true,
          "base_uri": "https://localhost:8080/"
        },
        "collapsed": true,
        "id": "1e109cde",
        "outputId": "af549924-e65b-4297-b759-264351258035"
      },
      "outputs": [
        {
          "name": "stdout",
          "output_type": "stream",
          "text": [
            "Epoch 1/50\n",
            "5/5 [==============================] - 926s 187s/step - loss: 1413889.1250 - dense_2_loss: 198318.8594 - dense_4_loss: 179912.0156 - dense_6_loss: 368592.1562 - dense_8_loss: 667066.0625 - val_loss: 58746.7539 - val_dense_2_loss: 2143.4685 - val_dense_4_loss: 6134.6416 - val_dense_6_loss: 21541.0762 - val_dense_8_loss: 28927.5664\n",
            "Epoch 2/50\n",
            "5/5 [==============================] - 873s 177s/step - loss: 66935.3984 - dense_2_loss: 4148.2896 - dense_4_loss: 5972.1357 - dense_6_loss: 26305.0938 - dense_8_loss: 30509.8809 - val_loss: 68230.2188 - val_dense_2_loss: 2300.5154 - val_dense_4_loss: 7287.0913 - val_dense_6_loss: 23932.2344 - val_dense_8_loss: 34710.3750\n",
            "Epoch 3/50\n",
            "5/5 [==============================] - 864s 175s/step - loss: 69831.6562 - dense_2_loss: 4446.7261 - dense_4_loss: 5900.9985 - dense_6_loss: 27790.9180 - dense_8_loss: 31693.0195 - val_loss: 68219.0078 - val_dense_2_loss: 2298.4043 - val_dense_4_loss: 7286.5693 - val_dense_6_loss: 23927.0820 - val_dense_8_loss: 34706.9531\n",
            "Epoch 4/50\n",
            "5/5 [==============================] - 862s 175s/step - loss: 71811.0469 - dense_2_loss: 4630.7202 - dense_4_loss: 6437.2275 - dense_6_loss: 28170.0664 - dense_8_loss: 32573.0371 - val_loss: 68204.0469 - val_dense_2_loss: 2297.5347 - val_dense_4_loss: 7284.8730 - val_dense_6_loss: 23920.2461 - val_dense_8_loss: 34701.3867\n",
            "Epoch 5/50\n",
            "5/5 [==============================] - 868s 176s/step - loss: 69636.2578 - dense_2_loss: 4188.4819 - dense_4_loss: 6447.1807 - dense_6_loss: 26860.9258 - dense_8_loss: 32139.6680 - val_loss: 68181.5156 - val_dense_2_loss: 2296.3416 - val_dense_4_loss: 7282.0347 - val_dense_6_loss: 23910.8008 - val_dense_8_loss: 34692.3438\n",
            "Epoch 6/50\n",
            "5/5 [==============================] - 857s 173s/step - loss: 69088.8516 - dense_2_loss: 4547.0522 - dense_4_loss: 5686.6250 - dense_6_loss: 27903.4941 - dense_8_loss: 30951.6816 - val_loss: 68150.7266 - val_dense_2_loss: 2294.5164 - val_dense_4_loss: 7278.0586 - val_dense_6_loss: 23897.9922 - val_dense_8_loss: 34680.1602\n",
            "Epoch 7/50\n"
          ]
        }
      ],
      "source": [
        "hist = model.fit(dataset,epochs = 50,steps_per_epoch=steps_per_epoch_train, validation_data=dataset_valid, validation_steps=validation_steps)"
      ],
      "id": "1e109cde"
    },
    {
      "cell_type": "code",
      "execution_count": null,
      "metadata": {
        "id": "d4bdbb85"
      },
      "outputs": [],
      "source": [
        "plt.figure(figsize=(8,5))\n",
        "plt.plot(hist.history['loss'], label='loss')\n",
        "plt.plot(hist.history['val_loss'], label='val_loss')\n",
        "plt.grid(True)\n",
        "plt.legend()"
      ],
      "id": "d4bdbb85"
    },
    {
      "cell_type": "markdown",
      "metadata": {
        "id": "5edec9ab"
      },
      "source": [
        "**5.Visulisation**"
      ],
      "id": "5edec9ab"
    },
    {
      "cell_type": "code",
      "execution_count": null,
      "metadata": {
        "id": "8d23a2c5"
      },
      "outputs": [],
      "source": [
        "path = \"/content/datasets/datasets/images/a (1).jpg\"\n",
        "image = tf.io.read_file(path)\n",
        "image = tf.image.decode_jpeg(image, channels=3)\n",
        "image = tf.cast(image, tf.float64)\n",
        "image = image/255.0\n",
        "res = model.predict(tf.expand_dims(image,0))\n",
        "\n",
        "w = res[2] - res[0]\n",
        "h = res[3] - res[1]\n",
        "rect=mpatches.Rectangle((res[0],res[1]),w,h, fill = True,color = \"purple\",linewidth = 10)\n",
        "print(res[0], res[1], res[2], res[3])\n",
        "plt.imshow(image)\n",
        "plt.gca().add_patch(rect)"
      ],
      "id": "8d23a2c5"
    }
  ],
  "metadata": {
    "colab": {
      "provenance": []
    },
    "kernelspec": {
      "display_name": "Python 3",
      "language": "python",
      "name": "python3"
    },
    "language_info": {
      "codemirror_mode": {
        "name": "ipython",
        "version": 3
      },
      "file_extension": ".py",
      "mimetype": "text/x-python",
      "name": "python",
      "nbconvert_exporter": "python",
      "pygments_lexer": "ipython3",
      "version": "3.7.10"
    },
    "papermill": {
      "default_parameters": {},
      "duration": 114.700525,
      "end_time": "2021-08-07T05:58:34.756121",
      "environment_variables": {},
      "exception": null,
      "input_path": "__notebook__.ipynb",
      "output_path": "__notebook__.ipynb",
      "parameters": {},
      "start_time": "2021-08-07T05:56:40.055596",
      "version": "2.3.3"
    }
  },
  "nbformat": 4,
  "nbformat_minor": 5
}